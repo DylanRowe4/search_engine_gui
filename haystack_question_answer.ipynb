{
 "cells": [
  {
   "cell_type": "markdown",
   "id": "fb58aafe-8c5a-4f2b-bf13-9df82a4b67cb",
   "metadata": {},
   "source": [
    "Download PDF"
   ]
  },
  {
   "cell_type": "code",
   "execution_count": null,
   "id": "606cd278-c771-47f1-addb-2bc2fa04d476",
   "metadata": {},
   "outputs": [],
   "source": [
    "import urllib\n",
    "import requests\n",
    "\n",
    "#download pdf from url to local drive\n",
    "def download_file(download_url):\n",
    "    response = urllib.request.urlopen(download_url)\n",
    "    file = open(\"LordofTheRings.pdf\", 'wb')\n",
    "    file.write(response.read())\n",
    "    file.close()\n",
    "    print(\"Completed\")\n",
    "\n",
    "download_file(\"https://gosafir.com/mag/wp-content/uploads/2019/12/Tolkien-J.-The-lord-of-the-rings-HarperCollins-ebooks-2010.pdf\")"
   ]
  },
  {
   "cell_type": "markdown",
   "id": "06e30ded-1cc5-49ca-b353-edd3a1ed9d64",
   "metadata": {},
   "source": [
    "Load text from pdf"
   ]
  },
  {
   "cell_type": "code",
   "execution_count": null,
   "id": "96d45bd7-a07d-4401-acc4-21f5f1392fde",
   "metadata": {},
   "outputs": [],
   "source": [
    "import PyPDF2\n",
    "from cleantext import clean\n",
    "import re\n",
    "\n",
    "def read_pdf(pdf_location):\n",
    "    # creating a pdf reader object\n",
    "    reader = PyPDF2.PdfReader(pdf_location)\n",
    "\n",
    "    # print the number of pages in pdf file\n",
    "    print(f\"Total number of pages: {len(reader.pages)}\")\n",
    "\n",
    "    pages = []\n",
    "    for i in range(len(reader.pages)):\n",
    "        page = reader.pages[i].extract_text()\n",
    "        if page != '':\n",
    "            #replace two or more new lines with just one\n",
    "            page = re.sub(\"\\n{2,}\",\"\\n\", page)\n",
    "            #replace two or more spaces with just one\n",
    "            page = re.sub(\"\\{2,}\",\"\\n\", page)\n",
    "            #clean ascii text and remove any special characters\n",
    "            page = clean(page, fix_unicode=True, to_ascii=True, lower=False, no_line_breaks=False,\n",
    "                         no_urls=False, no_emails=False, no_phone_numbers=False, no_numbers=False, \n",
    "                         no_digits=False, no_currency_symbols=False, no_punct=False, lang=\"en\")\n",
    "            #append page and page number to a list of tuples\n",
    "            pages.append((i, page))\n",
    "    return pages"
   ]
  },
  {
   "cell_type": "code",
   "execution_count": null,
   "id": "f54e3e48-6afe-4cc8-a5a0-cfb9e52b7646",
   "metadata": {},
   "outputs": [],
   "source": [
    "pages = read_pdf('LordofTheRings.pdf')"
   ]
  },
  {
   "cell_type": "markdown",
   "id": "5bb908af-ec33-4161-9a1a-4d65bf80b8bc",
   "metadata": {},
   "source": [
    "Save text to .txt files"
   ]
  },
  {
   "cell_type": "code",
   "execution_count": null,
   "id": "c474d1f1-be33-4050-b287-f12ae6d9b8b8",
   "metadata": {},
   "outputs": [],
   "source": [
    "if not os.path.exists(\"faiss_documents\"):\n",
    "    os.mkdir(\"faiss_documents\")\n",
    "\n",
    "for page, text in pages:\n",
    "    try:\n",
    "        with open(f\"./faiss_documents/Page{page}\", 'w') as wt_f:\n",
    "            wt_f.write(text)\n",
    "    except:\n",
    "        print(f\"Cannot write page: {page}\")"
   ]
  },
  {
   "cell_type": "markdown",
   "id": "9017d879-9051-4225-b5cf-7de9b680d8c2",
   "metadata": {},
   "source": [
    "Download models from huggingface"
   ]
  },
  {
   "cell_type": "code",
   "execution_count": null,
   "id": "55576b4f-5fc0-4fa4-87a5-6109822a30c4",
   "metadata": {},
   "outputs": [],
   "source": [
    "# !git clone https://huggingface.co/sentence-transformers/all-mpnet-base-v2\n",
    "# !git clone https://huggingface.co/VMware/tinyroberta-mrqa"
   ]
  },
  {
   "cell_type": "markdown",
   "id": "22f41867-35c7-4122-8047-c126b7f2c0dc",
   "metadata": {},
   "source": [
    "Create Faiss Document Store"
   ]
  },
  {
   "cell_type": "code",
   "execution_count": 1,
   "id": "5245cd37-b153-442f-a5a3-47d0276e7ebd",
   "metadata": {},
   "outputs": [
    {
     "name": "stdout",
     "output_type": "stream",
     "text": [
      "GPU Available: False\n"
     ]
    }
   ],
   "source": [
    "from haystack.document_stores import FAISSDocumentStore\n",
    "from haystack import Pipeline\n",
    "from haystack.nodes import TextConverter, PreProcessor, EmbeddingRetriever\n",
    "from haystack.pipelines import ExtractiveQAPipeline\n",
    "from haystack.nodes import FARMReader\n",
    "import torch\n",
    "\n",
    "gpu_use = torch.cuda.is_available()\n",
    "print(f\"GPU Available: {gpu_use}\")"
   ]
  },
  {
   "cell_type": "code",
   "execution_count": 2,
   "id": "61919b54-d712-44a2-ad53-648b256cb7e2",
   "metadata": {},
   "outputs": [],
   "source": [
    "def add_to_faiss_index(index_location, file_location):\n",
    "    #load components of pipeline, text_converter, preprocessor, and document_store\n",
    "    indexing_pipeline = Pipeline()\n",
    "    text_converter = TextConverter()\n",
    "    preprocessor = PreProcessor(clean_whitespace=True,\n",
    "                                clean_header_footer=True,\n",
    "                                clean_empty_lines=True,\n",
    "                                split_by=\"word\",\n",
    "                                split_length=200,\n",
    "                                split_overlap=20,\n",
    "                                split_respect_sentence_boundary=True)\n",
    "    \n",
    "    #if document store exists load and append, if it doesn't exist create a new one\n",
    "    if not os.path.exists(index_location):\n",
    "        document_store = FAISSDocumentStore()\n",
    "        exists = False\n",
    "    else:\n",
    "        document_store = FAISSDocumentStore.load(index_path=index_location)\n",
    "        exists = True\n",
    "    \n",
    "    #add nodes to pipeline\n",
    "    indexing_pipeline.add_node(component=text_converter, name='TextConverter', inputs=['File'])\n",
    "    indexing_pipeline.add_node(component=preprocessor, name='PreProcessor', inputs=['TextConverter'])\n",
    "    indexing_pipeline.add_node(component=document_store, name='DocumentStore', inputs=['PreProcessor'])\n",
    "    \n",
    "    upload_files = [os.path.join(file_location, fil) for fil in os.listdir(file_location)]\n",
    "    #run pages through pipeline\n",
    "    indexing_pipeline.run_batch(file_paths=upload_files)\n",
    "    \n",
    "    #add a retriever to transform sentence to vectors\n",
    "    retriever = EmbeddingRetriever(document_store=document_store,\n",
    "                                   embedding_model='all-mpnet-base-v2',\n",
    "                                   model_format='sentence_transformers')\n",
    "    \n",
    "    #append to existing index or add documents and create index\n",
    "    if exists == False:\n",
    "        document_store.update_embeddings(retriever=retriever)\n",
    "        document_store.save(index_location)\n",
    "    else:\n",
    "        document_store.update_embeddings(retriever=retriever, update_existing_embeddings=False)\n",
    "        document_store.save(index_location)"
   ]
  },
  {
   "cell_type": "code",
   "execution_count": null,
   "id": "2bfafac6-8ee1-4161-a175-32a4b5a8d1de",
   "metadata": {},
   "outputs": [],
   "source": [
    "add_to_faiss_index('LoTR_Faiss_Index', './faiss_documents')"
   ]
  },
  {
   "cell_type": "markdown",
   "id": "df7fe68e-f52b-4c8e-b37a-9bbcc20cd64e",
   "metadata": {},
   "source": [
    "Convert Huggingface Model to FARM format"
   ]
  },
  {
   "cell_type": "code",
   "execution_count": null,
   "id": "6d91f706-429f-4f37-b1bb-f15075915edd",
   "metadata": {},
   "outputs": [],
   "source": [
    "from haystack.modeling.model.adaptive_model import AdaptiveModel\n",
    "from haystack.modeling.data_handler.processor import Processor\n",
    "\n",
    "if not os.path.exists(\"tinyroberta_local_farm\"):\n",
    "    #convert the hugging face model to the format needed for FARM (only need to do once)\n",
    "    model = AdaptiveModel.convert_from_transformers(\"tinyroberta-mrqa\",\n",
    "                                                    device=\"cpu\",\n",
    "                                                    task_type=\"question_answering\")\n",
    "    processor = Processor.convert_from_transformers(\"tinyroberta-mrqa\",\n",
    "                                                    task_type=\"question_answering\",\n",
    "                                                    max_seq_len=384,\n",
    "                                                    doc_stride=128)\n",
    "    model.save(\"tinyroberta_local_farm\")\n",
    "    processor.save(\"tinyroberta_local_farm\")"
   ]
  },
  {
   "cell_type": "markdown",
   "id": "178fc51b-8cd2-415d-875c-15719c778072",
   "metadata": {},
   "source": [
    "Answer Questions from Index"
   ]
  },
  {
   "cell_type": "code",
   "execution_count": 3,
   "id": "b8104775-06fc-48af-a9ea-6a08efee384a",
   "metadata": {},
   "outputs": [],
   "source": [
    "def query_faiss_index(index_location, user_query):\n",
    "    document_store = FAISSDocumentStore.load(index_path=index_location)\n",
    "    \n",
    "    #add reader using tinyroberta\n",
    "    reader = FARMReader(model_name_or_path='tinyroberta_local_farm',\n",
    "                        use_gpu=gpu_use, context_window_size=300)\n",
    "    \n",
    "    #retriever using the same embedding model as when index is created\n",
    "    retriever = EmbeddingRetriever(document_store=document_store,\n",
    "                               embedding_model='all-mpnet-base-v2',\n",
    "                               model_format='sentence_transformers')\n",
    "    \n",
    "    #add reader and retriever to question-answer pipeline\n",
    "    pipeline = ExtractiveQAPipeline(reader, retriever)\n",
    "    \n",
    "    prediction = pipeline.run(query=user_query,\n",
    "                              params={\n",
    "                                  \"Retriever\": {\"top_k\": 10},\n",
    "                                  \"Reader\": {\"top_k\": 5}\n",
    "                              })\n",
    "    results = []\n",
    "    for answer in prediction['answers']:\n",
    "        results.append((answer.answer, answer.context, answer.score))\n",
    "    return results"
   ]
  },
  {
   "cell_type": "code",
   "execution_count": 4,
   "id": "29206468-67f3-48f3-b20f-f6615b2bca3a",
   "metadata": {},
   "outputs": [],
   "source": [
    "def print_answer(results):\n",
    "    print(f\"Answer: {results[0][0]}\")\n",
    "    print(f\"Score: {results[0][2]}\")\n",
    "    print(f\"Context: {results[0][1]}\")\n",
    "    print(f\"-\"*56 + \"\\n\")"
   ]
  },
  {
   "cell_type": "code",
   "execution_count": 5,
   "id": "e762fb82-82ec-4707-9849-288a24ac10fe",
   "metadata": {},
   "outputs": [
    {
     "name": "stderr",
     "output_type": "stream",
     "text": [
      "WARNING:haystack.modeling.model.prediction_head:Some unused parameters are passed to the QuestionAnsweringHead. Might not be a problem. Params: {\"training\": true, \"num_labels\": 2, \"ph_output_type\": \"per_token_squad\", \"model_type\": \"span_classification\", \"name\": \"QuestionAnsweringHead\"}\n"
     ]
    },
    {
     "data": {
      "application/vnd.jupyter.widget-view+json": {
       "model_id": "f7b6ed4558d14325bb99f8070a47fed5",
       "version_major": 2,
       "version_minor": 0
      },
      "text/plain": [
       "Batches:   0%|          | 0/1 [00:00<?, ?it/s]"
      ]
     },
     "metadata": {},
     "output_type": "display_data"
    },
    {
     "data": {
      "application/vnd.jupyter.widget-view+json": {
       "model_id": "34e02b79b068491985c5178e12c93ca8",
       "version_major": 2,
       "version_minor": 0
      },
      "text/plain": [
       "Inferencing Samples:   0%|          | 0/1 [00:00<?, ? Batches/s]"
      ]
     },
     "metadata": {},
     "output_type": "display_data"
    },
    {
     "name": "stdout",
     "output_type": "stream",
     "text": [
      "Answer: potatoes,\n",
      "Score: 0.8338145017623901\n",
      "Context: \n",
      "polite to him, calling him 'Master Hamfast', and consulting him\n",
      "constantly upon the growing of vegetables - in the matter of 'roots',\n",
      "especially potatoes, the Gaffer was recognized as the leading authority\n",
      "by all in the neighbourhood (including himself ).\n",
      "'But what about this Frodo that lives with \n",
      "--------------------------------------------------------\n",
      "\n"
     ]
    }
   ],
   "source": [
    "#send user query to question-answer pipeline\n",
    "results = query_faiss_index('LoTR_Faiss_Index', \"\"\"What was Samwise Gamgee's favorite vegetable?\"\"\")\n",
    "print_answer(results)"
   ]
  },
  {
   "cell_type": "code",
   "execution_count": 8,
   "id": "3893c96b-d77d-4bfb-a937-51c952b9294f",
   "metadata": {},
   "outputs": [
    {
     "name": "stderr",
     "output_type": "stream",
     "text": [
      "WARNING:haystack.modeling.model.prediction_head:Some unused parameters are passed to the QuestionAnsweringHead. Might not be a problem. Params: {\"training\": true, \"num_labels\": 2, \"ph_output_type\": \"per_token_squad\", \"model_type\": \"span_classification\", \"name\": \"QuestionAnsweringHead\"}\n"
     ]
    },
    {
     "data": {
      "application/vnd.jupyter.widget-view+json": {
       "model_id": "38bfba185c904f6294bd9957c21e28fb",
       "version_major": 2,
       "version_minor": 0
      },
      "text/plain": [
       "Batches:   0%|          | 0/1 [00:00<?, ?it/s]"
      ]
     },
     "metadata": {},
     "output_type": "display_data"
    },
    {
     "data": {
      "application/vnd.jupyter.widget-view+json": {
       "model_id": "aecaa3f1c7bd455095b5a0e5947d9071",
       "version_major": 2,
       "version_minor": 0
      },
      "text/plain": [
       "Inferencing Samples:   0%|          | 0/2 [00:00<?, ? Batches/s]"
      ]
     },
     "metadata": {},
     "output_type": "display_data"
    },
    {
     "name": "stdout",
     "output_type": "stream",
     "text": [
      "Answer: Seven\n",
      "Score: 0.30906951427459717\n",
      "Context: llowers.\n",
      "Years afterwards Thro' r, now old, poor, and desperate, gave to his son Thra'in\n",
      "the one great treasure he still possessed, the last of the Seven Rings, and\n",
      "then he went away with one old companion only, called Na'r. Of the Ring\n",
      "he said to Thra'in at their parting:\n",
      "'This may prove the founda\n",
      "--------------------------------------------------------\n",
      "\n"
     ]
    }
   ],
   "source": [
    "#send user query to question-answer pipeline\n",
    "results = query_faiss_index('LoTR_Faiss_Index', \"\"\"How many rings were there?\"\"\")\n",
    "print_answer(results)"
   ]
  },
  {
   "cell_type": "code",
   "execution_count": null,
   "id": "e154cca8-0715-4d5b-80a4-9e85aed869e9",
   "metadata": {},
   "outputs": [],
   "source": []
  }
 ],
 "metadata": {
  "kernelspec": {
   "display_name": "search_engine",
   "language": "python",
   "name": "search_engine"
  },
  "language_info": {
   "codemirror_mode": {
    "name": "ipython",
    "version": 3
   },
   "file_extension": ".py",
   "mimetype": "text/x-python",
   "name": "python",
   "nbconvert_exporter": "python",
   "pygments_lexer": "ipython3",
   "version": "3.10.9"
  }
 },
 "nbformat": 4,
 "nbformat_minor": 5
}
