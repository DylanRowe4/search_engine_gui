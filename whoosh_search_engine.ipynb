{
 "cells": [
  {
   "cell_type": "markdown",
   "id": "f3dd68ad-c9e1-4dc9-9c14-b72d9918b82b",
   "metadata": {},
   "source": [
    "Download PDF"
   ]
  },
  {
   "cell_type": "code",
   "execution_count": 1,
   "id": "eac5c11a-2023-469c-8610-a09413f0720d",
   "metadata": {},
   "outputs": [
    {
     "name": "stdout",
     "output_type": "stream",
     "text": [
      "Completed\n"
     ]
    }
   ],
   "source": [
    "import urllib\n",
    "import requests\n",
    "\n",
    "#download pdf from url to local drive\n",
    "def download_file(download_url):\n",
    "    response = urllib.request.urlopen(download_url)\n",
    "    file = open(\"LordofTheRings.pdf\", 'wb')\n",
    "    file.write(response.read())\n",
    "    file.close()\n",
    "    print(\"Completed\")\n",
    "\n",
    "download_file(\"https://gosafir.com/mag/wp-content/uploads/2019/12/Tolkien-J.-The-lord-of-the-rings-HarperCollins-ebooks-2010.pdf\")"
   ]
  },
  {
   "cell_type": "markdown",
   "id": "ee7b9bd7-c8e1-4c3a-aea2-22b93137083d",
   "metadata": {},
   "source": [
    "Extract Pages"
   ]
  },
  {
   "cell_type": "code",
   "execution_count": 2,
   "id": "8eaae6ab-e808-4ae0-a42a-d92b510e7d46",
   "metadata": {},
   "outputs": [],
   "source": [
    "import PyPDF2\n",
    "from cleantext import clean\n",
    "import re\n",
    "\n",
    "def read_pdf(pdf_location):\n",
    "    # creating a pdf reader object\n",
    "    reader = PyPDF2.PdfReader(pdf_location)\n",
    "\n",
    "    # print the number of pages in pdf file\n",
    "    print(f\"Total number of pages: {len(reader.pages)}\")\n",
    "\n",
    "    pages = []\n",
    "    for i in range(len(reader.pages)):\n",
    "        page = reader.pages[i].extract_text()\n",
    "        if page != '':\n",
    "            #replace two or more new lines with just one\n",
    "            page = re.sub(\"\\n{2,}\",\"\\n\", page)\n",
    "            #replace two or more spaces with just one\n",
    "            page = re.sub(\"\\{2,}\",\"\\n\", page)\n",
    "            #clean ascii text and remove any special characters\n",
    "            page = clean(page, fix_unicode=True, to_ascii=True, lower=False, no_line_breaks=False,\n",
    "                         no_urls=False, no_emails=False, no_phone_numbers=False, no_numbers=False, \n",
    "                         no_digits=False, no_currency_symbols=False, no_punct=False, lang=\"en\")\n",
    "            #append page and page number to a list of tuples\n",
    "            pages.append((i, page))\n",
    "    return pages"
   ]
  },
  {
   "cell_type": "code",
   "execution_count": 3,
   "id": "01686aad-b742-4263-98b4-993343a5cd68",
   "metadata": {},
   "outputs": [
    {
     "name": "stdout",
     "output_type": "stream",
     "text": [
      "Total number of pages: 1210\n"
     ]
    }
   ],
   "source": [
    "pages = read_pdf('LordofTheRings.pdf')"
   ]
  },
  {
   "cell_type": "markdown",
   "id": "ba698477-752c-4546-bf0c-9ac67be4498c",
   "metadata": {},
   "source": [
    "Create Whoosh Index"
   ]
  },
  {
   "cell_type": "code",
   "execution_count": 41,
   "id": "bbcc369e-65bf-4b4a-bd79-29debd78ab5d",
   "metadata": {},
   "outputs": [],
   "source": [
    "import os\n",
    "from whoosh.fields import Schema, TEXT, ID\n",
    "from whoosh.index import create_in, open_dir\n",
    "from whoosh.qparser import QueryParser"
   ]
  },
  {
   "cell_type": "code",
   "execution_count": 42,
   "id": "7a6d2953-3407-4903-98c8-645894a11715",
   "metadata": {},
   "outputs": [],
   "source": [
    "def add_pages_to_index(index_location):\n",
    "    schema = Schema(path=ID(stored=True), content=TEXT(stored=True))\n",
    "    \n",
    "    #create new or load whoosh index\n",
    "    if not os.path.exists(index_location):\n",
    "        print(\"Creating new index.\")\n",
    "        os.mkdir(index_location)\n",
    "        ix = create_in(index_location, schema)\n",
    "    else:\n",
    "        print(\"Appending to existing index\")\n",
    "        ix = open_dir(index_location)\n",
    "        \n",
    "    #create a new writer object\n",
    "    writer = ix.writer()\n",
    "    \n",
    "    #loop through pages and add documents to index\n",
    "    for page_num, page in pages:\n",
    "        writer.add_document(path=str(page_num), content=page)\n",
    "    writer.commit()"
   ]
  },
  {
   "cell_type": "code",
   "execution_count": null,
   "id": "03ca3192-3cda-4187-8a4f-b44463320d68",
   "metadata": {},
   "outputs": [],
   "source": [
    "add_pages_to_index('LordOfTheRingsWhooshIndex')"
   ]
  },
  {
   "cell_type": "markdown",
   "id": "540a56ce-41e3-43f7-b356-e345606b0cf9",
   "metadata": {},
   "source": [
    "Query Whoosh Index"
   ]
  },
  {
   "cell_type": "code",
   "execution_count": 43,
   "id": "0849ca6e-0d90-4290-802a-1ef69fc66a32",
   "metadata": {},
   "outputs": [],
   "source": [
    "def query_index(index_location, user_query):\n",
    "    ix = open_dir(index_location)\n",
    "    \n",
    "    with ix.searcher() as searcher:\n",
    "        #load input query to parser\n",
    "        query = QueryParser(\"content\", ix.schema).parse(user_query)\n",
    "        print(f\"Query: {query}\")\n",
    "        #search index for query\n",
    "        results = searcher.search(query, terms=True, limit=10)\n",
    "        \n",
    "        results_list = []\n",
    "        #iterate through response\n",
    "        for res in results:\n",
    "            results_list.append((res['path'], res.score, res['content']))\n",
    "    return query, results_list"
   ]
  },
  {
   "cell_type": "code",
   "execution_count": 50,
   "id": "9c0ed189-d4de-4f54-811a-6772ce17d84a",
   "metadata": {},
   "outputs": [
    {
     "name": "stdout",
     "output_type": "stream",
     "text": [
      "Query: content:\"po ta toes\"\n"
     ]
    }
   ],
   "source": [
    "query, results = query_index('LordOfTheRingsWhooshIndex',\n",
    "                             '\"po - ta - toes\"')"
   ]
  },
  {
   "cell_type": "code",
   "execution_count": 52,
   "id": "864e399d-6819-4c7e-ac03-7f94059c9e35",
   "metadata": {},
   "outputs": [
    {
     "name": "stdout",
     "output_type": "stream",
     "text": [
      "\n",
      "Page: 677\n",
      "Content:\n",
      "654 TH E L ORD OF THE RI NGS\n",
      "'Not make the nassty red tongues,' hissed Gollum. 'Fire, fire! It's\n",
      "dangerous, yes it is. It burns, it kills. And it will bring enemies, yes\n",
      "it will.'\n",
      "'I don't think so,' said Sam. 'Don't see why it should, if you don't\n",
      "put wet stuff on it and make a smother. But if it does, it does. I'm\n",
      "going to risk it, anyhow. I'm going to stew these coneys.'\n",
      "'Stew the rabbits!' squealed Gollum in dismay. 'Spoil beautiful\n",
      "meat Sme'agol saved for you, poor hungry Sme'agol! What for? What\n",
      "for, silly hobbit? They are young, they are tender, they are nice. Eat\n",
      "them, eat them!' He clawed at the nearest rabbit, already skinned\n",
      "and lying by the fire.\n",
      "'Now, now!' said Sam. 'Each to his own fashion. Our bread chokes\n",
      "you, and raw coney chokes me. If you give me a coney, the coney's\n",
      "mine, see, to cook, if I have a mind. And I have. You needn't watch\n",
      "me. Go and catch another and eat it as you fancy - somewhere private\n",
      "and out o' my sight. Then you won't see the fire, and I shan't se\n",
      "--------------------------------------------------------\n",
      "\n"
     ]
    }
   ],
   "source": [
    "for hit in results:\n",
    "    print(f\"\\nPage: {hit[0]}\")\n",
    "    print(f\"Content:\\n{hit[2][:1000]}\")\n",
    "    print(f\"-\"*56 + \"\\n\")"
   ]
  },
  {
   "cell_type": "code",
   "execution_count": null,
   "id": "ad702673-78bc-4475-8427-4abfba52e1b0",
   "metadata": {},
   "outputs": [],
   "source": []
  }
 ],
 "metadata": {
  "kernelspec": {
   "display_name": "search_engine",
   "language": "python",
   "name": "search_engine"
  },
  "language_info": {
   "codemirror_mode": {
    "name": "ipython",
    "version": 3
   },
   "file_extension": ".py",
   "mimetype": "text/x-python",
   "name": "python",
   "nbconvert_exporter": "python",
   "pygments_lexer": "ipython3",
   "version": "3.10.9"
  }
 },
 "nbformat": 4,
 "nbformat_minor": 5
}
