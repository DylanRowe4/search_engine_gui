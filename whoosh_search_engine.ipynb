{
 "cells": [
  {
   "cell_type": "markdown",
   "id": "f3dd68ad-c9e1-4dc9-9c14-b72d9918b82b",
   "metadata": {},
   "source": [
    "Download PDF"
   ]
  },
  {
   "cell_type": "code",
   "execution_count": 1,
   "id": "eac5c11a-2023-469c-8610-a09413f0720d",
   "metadata": {},
   "outputs": [
    {
     "name": "stdout",
     "output_type": "stream",
     "text": [
      "Completed\n"
     ]
    }
   ],
   "source": [
    "import urllib\n",
    "import requests\n",
    "\n",
    "#download pdf from url to local drive\n",
    "def download_file(download_url):\n",
    "    response = urllib.request.urlopen(download_url)\n",
    "    file = open(\"LordofTheRings.pdf\", 'wb')\n",
    "    file.write(response.read())\n",
    "    file.close()\n",
    "    print(\"Completed\")\n",
    "\n",
    "download_file(\"https://gosafir.com/mag/wp-content/uploads/2019/12/Tolkien-J.-The-lord-of-the-rings-HarperCollins-ebooks-2010.pdf\")"
   ]
  },
  {
   "cell_type": "markdown",
   "id": "ee7b9bd7-c8e1-4c3a-aea2-22b93137083d",
   "metadata": {},
   "source": [
    "Extract Pages"
   ]
  },
  {
   "cell_type": "code",
   "execution_count": 2,
   "id": "8eaae6ab-e808-4ae0-a42a-d92b510e7d46",
   "metadata": {},
   "outputs": [],
   "source": [
    "import PyPDF2\n",
    "from cleantext import clean\n",
    "import re\n",
    "\n",
    "def read_pdf(pdf_location):\n",
    "    # creating a pdf reader object\n",
    "    reader = PyPDF2.PdfReader(pdf_location)\n",
    "\n",
    "    # print the number of pages in pdf file\n",
    "    print(f\"Total number of pages: {len(reader.pages)}\")\n",
    "\n",
    "    pages = []\n",
    "    for i in range(len(reader.pages)):\n",
    "        page = reader.pages[i].extract_text()\n",
    "        if page != '':\n",
    "            #replace two or more new lines with just one\n",
    "            page = re.sub(\"\\n{2,}\",\"\\n\", page)\n",
    "            #replace two or more spaces with just one\n",
    "            page = re.sub(\"\\{2,}\",\"\\n\", page)\n",
    "            #clean ascii text and remove any special characters\n",
    "            page = clean(page, fix_unicode=True, to_ascii=True, lower=False, no_line_breaks=False,\n",
    "                         no_urls=False, no_emails=False, no_phone_numbers=False, no_numbers=False, \n",
    "                         no_digits=False, no_currency_symbols=False, no_punct=False, lang=\"en\")\n",
    "            #append page and page number to a list of tuples\n",
    "            pages.append((i, page))\n",
    "    return pages"
   ]
  },
  {
   "cell_type": "code",
   "execution_count": 3,
   "id": "01686aad-b742-4263-98b4-993343a5cd68",
   "metadata": {},
   "outputs": [
    {
     "name": "stdout",
     "output_type": "stream",
     "text": [
      "Total number of pages: 1210\n"
     ]
    }
   ],
   "source": [
    "pages = read_pdf('LordofTheRings.pdf')"
   ]
  },
  {
   "cell_type": "markdown",
   "id": "ba698477-752c-4546-bf0c-9ac67be4498c",
   "metadata": {},
   "source": [
    "Create Whoosh Index"
   ]
  },
  {
   "cell_type": "code",
   "execution_count": 1,
   "id": "bbcc369e-65bf-4b4a-bd79-29debd78ab5d",
   "metadata": {},
   "outputs": [],
   "source": [
    "import os\n",
    "from whoosh.fields import Schema, TEXT, ID\n",
    "from whoosh.index import create_in, open_dir\n",
    "from whoosh.qparser import QueryParser"
   ]
  },
  {
   "cell_type": "code",
   "execution_count": 42,
   "id": "7a6d2953-3407-4903-98c8-645894a11715",
   "metadata": {},
   "outputs": [],
   "source": [
    "def add_pages_to_index(index_location):\n",
    "    schema = Schema(path=ID(stored=True), content=TEXT(stored=True))\n",
    "    \n",
    "    #create new or load whoosh index\n",
    "    if not os.path.exists(index_location):\n",
    "        print(\"Creating new index.\")\n",
    "        os.mkdir(index_location)\n",
    "        ix = create_in(index_location, schema)\n",
    "    else:\n",
    "        print(\"Appending to existing index\")\n",
    "        ix = open_dir(index_location)\n",
    "        \n",
    "    #create a new writer object\n",
    "    writer = ix.writer()\n",
    "    \n",
    "    #loop through pages and add documents to index\n",
    "    for page_num, page in pages:\n",
    "        writer.add_document(path=str(page_num), content=page)\n",
    "    writer.commit()"
   ]
  },
  {
   "cell_type": "code",
   "execution_count": null,
   "id": "03ca3192-3cda-4187-8a4f-b44463320d68",
   "metadata": {},
   "outputs": [],
   "source": [
    "add_pages_to_index('LordOfTheRingsWhooshIndex')"
   ]
  },
  {
   "cell_type": "markdown",
   "id": "540a56ce-41e3-43f7-b356-e345606b0cf9",
   "metadata": {},
   "source": [
    "Query Whoosh Index"
   ]
  },
  {
   "cell_type": "code",
   "execution_count": 2,
   "id": "0849ca6e-0d90-4290-802a-1ef69fc66a32",
   "metadata": {},
   "outputs": [],
   "source": [
    "def query_index(index_location, user_query):\n",
    "    ix = open_dir(index_location)\n",
    "    \n",
    "    with ix.searcher() as searcher:\n",
    "        #load input query to parser\n",
    "        query = QueryParser(\"content\", ix.schema).parse(user_query)\n",
    "        print(f\"Query: {query}\")\n",
    "        #search index for query\n",
    "        results = searcher.search(query, terms=True, limit=10)\n",
    "        \n",
    "        results_list = []\n",
    "        #iterate through response\n",
    "        for res in results:\n",
    "            results_list.append((res['path'], res.score, res['content']))\n",
    "    return query, results_list"
   ]
  },
  {
   "cell_type": "code",
   "execution_count": 3,
   "id": "9c0ed189-d4de-4f54-811a-6772ce17d84a",
   "metadata": {},
   "outputs": [
    {
     "name": "stdout",
     "output_type": "stream",
     "text": [
      "Query: (content:\"one ring rule them all\" AND content:\"darkness bind them\")\n"
     ]
    }
   ],
   "source": [
    "query, results = query_index('LordOfTheRingsWhooshIndex',\n",
    "                             '\"one ring to rule them all\" \"in darkness bind them\"')"
   ]
  },
  {
   "cell_type": "code",
   "execution_count": 4,
   "id": "864e399d-6819-4c7e-ac03-7f94059c9e35",
   "metadata": {},
   "outputs": [
    {
     "name": "stdout",
     "output_type": "stream",
     "text": [
      "\n",
      "Page: 73\n",
      "Content:\n",
      "50 TH E L ORD OF THE RI NGS\n",
      "No apparent change came over the ring. After a while Gandalf got\n",
      "up, closed the shutters outside the window, and drew the curtains.\n",
      "The room became dark and silent, though the clack of Sam's shears,\n",
      "now nearer to the windows, could still be heard faintly from the\n",
      "garden. For a moment the wizard stood looking at the fire; then he\n",
      "stooped and removed the ring to the hearth with the tongs, and at\n",
      "once picked it up. Frodo gasped.\n",
      "'It is quite cool,' said Gandalf. 'Take it!' Frodo received it on his\n",
      "shrinking palm: it seemed to have become thicker and heavier than\n",
      "ever.\n",
      "'Hold it up!' said Gandalf. 'And look closely!'\n",
      "As Frodo did so, he now saw fine lines, finer than the finest pen-\n",
      "strokes, running along the ring, outside and inside: lines of fire that\n",
      "seemed to form the letters of a flowing script. They shone piercingly\n",
      "bright, and yet remote, as if out of a great depth.\n",
      "'I cannot read the fiery letters,' said Frodo in a quavering voice.\n",
      "'No,' said Gandalf, 'bu\n",
      "--------------------------------------------------------\n",
      "\n",
      "\n",
      "Page: 3\n",
      "Content:\n",
      "Three Rings for the Elven-kings under the sky,\n",
      "Seven for the Dwarf-lords in their halls of stone,\n",
      "Nine for Mortal Men doomed to die,\n",
      "One for the Dark Lord on his dark throne\n",
      "In the Land of Mordor where the Shadows lie.\n",
      "One Ring to rule them all, One Ring to find them,\n",
      "One Ring to bring them all and in the darkness bind them\n",
      "In the Land of Mordor where the Shadows lie.\n",
      "--------------------------------------------------------\n",
      "\n",
      "\n",
      "Page: 277\n",
      "Content:\n",
      "254 TH E L ORD OF THE RI NGS\n",
      "one thing, the tale he told of his loss agreed with that which Bilbo\n",
      "has now told openly for the first time; but that mattered little, since\n",
      "I had already guessed it. But I learned then first that Gollum's ring\n",
      "came out of the Great River nigh to the Gladden Fields. And I learned\n",
      "also that he had possessed it long. Many lives of his small kind. The\n",
      "power of the ring had lengthened his years far beyond their span;\n",
      "but that power only the Great Rings wield.\n",
      "'And if that is not proof enough, Galdor, there is the other test\n",
      "that I spoke of. Upon this very ring which you have here seen held\n",
      "aloft, round and unadorned, the letters that Isildur reported may still\n",
      "be read, if one has the strength of will to set the golden thing in the\n",
      "fire a while. That I have done, and this I have read:\n",
      "Ash nazg durbatulu^k, ash nazg gimbatul, ash nazg thrakatulu^k\n",
      "agh burzum-ishi krimpatul.'\n",
      "The change in the wizard's voice was astounding. Suddenly it\n",
      "became menacing, powerful, h\n",
      "--------------------------------------------------------\n",
      "\n",
      "\n",
      "Page: 641\n",
      "Content:\n",
      "618 TH E L ORD OF THE RI NGS\n",
      "'No, I will not take it off you,' said Frodo, 'not unless' - he paused\n",
      "a moment in thought - 'not unless there is any promise you can make\n",
      "that I can trust.'\n",
      "'We will swear to do what he wants, yes, yess,' said Gollum, still\n",
      "twisting and grabbling at his ankle. 'It hurts us.'\n",
      "'Swear?' said Frodo.\n",
      "'Sme'agol,' said Gollum suddenly and clearly, opening his eyes\n",
      "wide and staring at Frodo with a strange light. 'Sme'agol will swear\n",
      "on the Precious.'\n",
      "Frodo drew himself up, and again Sam was startled by his words\n",
      "and his stern voice. 'On the Precious? How dare you?' he said. 'Think!\n",
      "One Ring to rule them all and in the Darkness bind them.\n",
      "Would you commit your promise to that, Sme'agol? It will hold you.\n",
      "But it is more treacherous than you are. It may twist your words.\n",
      "Beware!'\n",
      "Gollum cowered. 'On the Precious, on the Precious!' he repeated.\n",
      "'And what would you swear?' asked Frodo.\n",
      "'To be very very good,' said Gollum. Then crawling to Frodo's\n",
      "feet he grovelled befo\n",
      "--------------------------------------------------------\n",
      "\n"
     ]
    }
   ],
   "source": [
    "for hit in results:\n",
    "    print(f\"\\nPage: {hit[0]}\")\n",
    "    print(f\"Content:\\n{hit[2][:1000]}\")\n",
    "    print(f\"-\"*56 + \"\\n\")"
   ]
  },
  {
   "cell_type": "code",
   "execution_count": null,
   "id": "ad702673-78bc-4475-8427-4abfba52e1b0",
   "metadata": {},
   "outputs": [],
   "source": []
  }
 ],
 "metadata": {
  "kernelspec": {
   "display_name": "search_engine",
   "language": "python",
   "name": "search_engine"
  },
  "language_info": {
   "codemirror_mode": {
    "name": "ipython",
    "version": 3
   },
   "file_extension": ".py",
   "mimetype": "text/x-python",
   "name": "python",
   "nbconvert_exporter": "python",
   "pygments_lexer": "ipython3",
   "version": "3.10.9"
  }
 },
 "nbformat": 4,
 "nbformat_minor": 5
}
